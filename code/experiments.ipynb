{
 "cells": [
  {
   "cell_type": "code",
   "execution_count": null,
   "metadata": {},
   "outputs": [],
   "source": [
    "from helper import *\n",
    "\n",
    "path='../reports/corpus.xlsx'\n",
    "descriptions = [preprocess_text(element) for element in get_column_values(path, 'descriptions_measures', 'A')]\n",
    "targets = [preprocess_text(element) for element in get_column_values(path, 'descriptions_measures', 'B')]\n",
    "models = ['bow','tfidf','word2vec','sbert']\n",
    "preprocessing = True\n",
    "version_w2v = 'word2vec-google-news-300'\n",
    "version_sbert = 'bert-base-nli-mean-tokens'\n",
    "version_bow = './models/preprocessedbow_model.joblib'\n",
    "version_tfidf = './models/preprocessedtfidf_model.joblib'\n",
    "corpus = ['Descriptions']\n",
    "tm = TextModels(excel_path=path, columns=corpus,\n",
    "                 word2vec_version=version_w2v, sbert_model=version_sbert)\n",
    "n = 7\n",
    "\n",
    "for model in models:\n",
    "    if model == 'bow':\n",
    "        version = version_bow\n",
    "        candidate_templates(descriptions=descriptions, targets=targets, \n",
    "                    model=model, version=version, tm=tm, preprocessing=preprocessing, path=path, n=n)\n",
    "    elif model == 'tfidf':\n",
    "        version = version_tfidf\n",
    "        candidate_templates(descriptions=descriptions, targets=targets, \n",
    "            model=model, version=version, tm=tm, preprocessing=preprocessing, path=path, n=n)\n",
    "    elif model == 'word2vec':\n",
    "        version = version_w2v\n",
    "        candidate_templates(descriptions=descriptions, targets=targets, \n",
    "            model=model, version=version, tm=tm, preprocessing=preprocessing, path=path, n=n)\n",
    "    elif model == 'sbert':\n",
    "        version = version_sbert\n",
    "        candidate_templates(descriptions=descriptions, targets=targets, \n",
    "            model=model, version=version, tm=tm, preprocessing=preprocessing, path=path, n=n)\n"
   ]
  },
  {
   "cell_type": "code",
   "execution_count": null,
   "metadata": {},
   "outputs": [],
   "source": [
    "from helper import *\n",
    "\n",
    "path='../reports/corpus.xlsx'\n",
    "descriptions = get_column_values(path, 'descriptions_measures', 'A')\n",
    "targets = get_column_values(path, 'descriptions_measures', 'B')\n",
    "models = ['bow','tfidf','word2vec','sbert']\n",
    "preprocessing = False\n",
    "version_w2v = 'glove-twitter-200'\n",
    "version_sbert = 'bert-base-nli-mean-tokens'\n",
    "version_bow = './models/bow_model.joblib'\n",
    "version_tfidf = './models/tfidf_model.joblib'\n",
    "corpus = ['Descriptions']\n",
    "tm = TextModels(excel_path=path, columns=corpus,\n",
    "                 word2vec_version=version_w2v, sbert_model=version_sbert)\n",
    "n = 7\n",
    "\n",
    "for model in models:\n",
    "    if model == 'bow':\n",
    "        version = version_bow\n",
    "        candidate_templates(descriptions=descriptions, targets=targets, \n",
    "                    model=model, version=version, tm=tm, preprocessing=preprocessing, path=path, n=n)\n",
    "    elif model == 'tfidf':\n",
    "        version = version_tfidf\n",
    "        candidate_templates(descriptions=descriptions, targets=targets, \n",
    "            model=model, version=version, tm=tm, preprocessing=preprocessing, path=path, n=n)\n",
    "    elif model == 'word2vec':\n",
    "        version = version_w2v\n",
    "        candidate_templates(descriptions=descriptions, targets=targets, \n",
    "            model=model, version=version, tm=tm, preprocessing=preprocessing, path=path, n=n)\n",
    "    elif model == 'sbert':\n",
    "        version = version_sbert\n",
    "        candidate_templates(descriptions=descriptions, targets=targets, \n",
    "            model=model, version=version, tm=tm, preprocessing=preprocessing, path=path, n=n)"
   ]
  },
  {
   "cell_type": "code",
   "execution_count": 7,
   "metadata": {},
   "outputs": [
    {
     "name": "stdout",
     "output_type": "stream",
     "text": [
      "==================== word2vec ====================\n",
      "Candidate templates for Q1\n",
      "{'R1': ['Amount paid within the observation period'], 'R2': ['Payment prediction for stray payers, not in active settlement', 'Amount paid within the observation period'], 'R3': [], 'R4': [], 'R5': [], 'R6': [], 'R7': [], 'R8': [], 'R9': []}\n",
      "Candidate templates for Q2\n",
      "{'R1': ['Amount paid within the observation period'], 'R2': ['Payment prediction for stray payers, not in active settlement', 'Amount paid within the observation period'], 'R3': [], 'R4': [], 'R5': [], 'R6': [], 'R7': [], 'R8': [], 'R9': []}\n",
      "Candidate templates for Q3\n",
      "{'R1': ['Amount paid within the observation period'], 'R2': ['Payment prediction for stray payers, not in active settlement', 'Amount paid within the observation period'], 'R3': [], 'R4': [], 'R5': [], 'R6': [], 'R7': [], 'R8': [], 'R9': []}\n",
      "Candidate templates for Q4\n",
      "{'R1': [], 'R2': ['Payment prediction for stray payers, not in active settlement'], 'R3': [], 'R4': ['Settlement duration 37 to 72 months (included)', 'Settlement duration 13 to 36 months (included)', 'Settlement duration 73 to 108 months (included)'], 'R5': [], 'R6': [], 'R7': [], 'R8': [], 'R9': []}\n",
      "Candidate templates for Q5\n",
      "{'R1': [], 'R2': ['Payment prediction for stray payers, not in active settlement'], 'R3': [], 'R4': [], 'R5': [], 'R6': [], 'R7': [], 'R8': [], 'R9': []}\n",
      "Candidate templates for Q6\n",
      "{'R1': [], 'R2': ['Payment prediction for stray payers, not in active settlement'], 'R3': [], 'R4': [], 'R5': [], 'R6': [], 'R7': [], 'R8': [], 'R9': []}\n",
      "Candidate templates for Q7\n",
      "{'R1': [], 'R2': ['Payment prediction for stray payers, not in active settlement'], 'R3': [], 'R4': [], 'R5': [], 'R6': [], 'R7': [], 'R8': [], 'R9': []}\n",
      "Candidate templates for Q8\n",
      "{'R1': [], 'R2': ['Payment prediction for stray payers, not in active settlement'], 'R3': [], 'R4': [], 'R5': [], 'R6': [], 'R7': [], 'R8': [], 'R9': []}\n",
      "Candidate templates for Q9\n",
      "{'R1': [], 'R2': ['Payment prediction for stray payers, not in active settlement'], 'R3': [], 'R4': [], 'R5': [], 'R6': [], 'R7': [], 'R8': [], 'R9': []}\n"
     ]
    }
   ],
   "source": [
    "from helper import *\n",
    "\n",
    "path='../reports/corpus.xlsx'\n",
    "descriptions = get_column_values(path, 'descriptions_measures', 'A')\n",
    "targets = get_column_values(path, 'descriptions_measures', 'B')\n",
    "model = 'word2vec'\n",
    "preprocessing = False\n",
    "version_w2v = 'fasttext-wiki-news-subwords-300'\n",
    "corpus = ['Descriptions']\n",
    "tm = TextModels(excel_path=path, columns=corpus,\n",
    "                 word2vec_version=version_w2v)\n",
    "n = 7\n",
    "\n",
    "candidate_templates(descriptions=descriptions, targets=targets, model=model, version=version_w2v,\n",
    "                    tm=tm, path=path,preprocessing=preprocessing, n=n)\n"
   ]
  }
 ],
 "metadata": {
  "kernelspec": {
   "display_name": "project",
   "language": "python",
   "name": "python3"
  },
  "language_info": {
   "codemirror_mode": {
    "name": "ipython",
    "version": 3
   },
   "file_extension": ".py",
   "mimetype": "text/x-python",
   "name": "python",
   "nbconvert_exporter": "python",
   "pygments_lexer": "ipython3",
   "version": "3.9.16"
  },
  "orig_nbformat": 4,
  "vscode": {
   "interpreter": {
    "hash": "6730b402c0f33b6bed7f8d0f7f3f069d5734816b753f081e1b7690f9108853e7"
   }
  }
 },
 "nbformat": 4,
 "nbformat_minor": 2
}
