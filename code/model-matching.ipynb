{
 "cells": [
  {
   "cell_type": "code",
   "execution_count": 1,
   "metadata": {},
   "outputs": [
    {
     "name": "stderr",
     "output_type": "stream",
     "text": [
      "c:\\Users\\avitsas\\Anaconda3\\envs\\project\\lib\\site-packages\\tqdm\\auto.py:22: TqdmWarning: IProgress not found. Please update jupyter and ipywidgets. See https://ipywidgets.readthedocs.io/en/stable/user_install.html\n",
      "  from .autonotebook import tqdm as notebook_tqdm\n"
     ]
    },
    {
     "name": "stdout",
     "output_type": "stream",
     "text": [
      "==================== bow ====================\n",
      "Candidate templates for Q1\n",
      "{'R1': ['Amount paid within the observation period', 'Payment prediction for settlement payers'], 'R2': [], 'R3': ['Total payments amount so far'], 'R4': [], 'R5': [], 'R6': [], 'R7': [], 'R8': [], 'R9': []}\n",
      "Candidate templates for Q2\n",
      "{'R1': ['Amount paid within the observation period', 'Payment prediction for settlement payers'], 'R2': ['Payment prediction for stray payers, not in active settlement'], 'R3': [], 'R4': [], 'R5': [], 'R6': [], 'R7': [], 'R8': [], 'R9': []}\n",
      "Candidate templates for Q3\n",
      "{'R1': ['Amount paid within the observation period', 'Payment prediction for settlement payers'], 'R2': [], 'R3': ['Discount amount', 'Total future instalments amount'], 'R4': ['Settlement duration to 6 months (included)'], 'R5': [], 'R6': [], 'R7': [], 'R8': [], 'R9': []}\n",
      "Candidate templates for Q4\n",
      "{'R1': [], 'R2': [], 'R3': [], 'R4': ['Settlement duration 37 to 72 months (included)', 'Settlement duration to 6 months (included)', 'Settlement duration 7 to 12 months (included)', 'Settlement duration 13 to 36 months (included)', 'Settlement duration 73 to 108 months (included)', 'Settlement duration more than 109 months'], 'R5': [], 'R6': [], 'R7': [], 'R8': ['Days to approval'], 'R9': ['Days to rejection']}\n",
      "Candidate templates for Q5\n",
      "{'R1': ['Amount paid within the observation period', 'Payment prediction for settlement payers'], 'R2': ['Payment prediction for stray payers, not in active settlement'], 'R3': [], 'R4': [], 'R5': [], 'R6': [], 'R7': [], 'R8': [], 'R9': []}\n",
      "Candidate templates for Q6\n",
      "{'R1': ['Amount paid within the observation period'], 'R2': [], 'R3': [], 'R4': [], 'R5': [], 'R6': [], 'R7': ['Approved amount'], 'R8': [], 'R9': []}\n",
      "Candidate templates for Q7\n",
      "{'R1': ['Amount paid within the observation period'], 'R2': [], 'R3': [], 'R4': [], 'R5': [], 'R6': [], 'R7': ['Approved amount'], 'R8': ['Days to approval'], 'R9': []}\n",
      "Candidate templates for Q8\n",
      "{'R1': ['Amount paid within the observation period'], 'R2': [], 'R3': [], 'R4': [], 'R5': [], 'R6': [], 'R7': ['Approved amount'], 'R8': ['Approved duration', 'Days to approval'], 'R9': []}\n",
      "Candidate templates for Q9\n",
      "{'R1': ['Amount paid within the observation period'], 'R2': [], 'R3': [], 'R4': [], 'R5': [], 'R6': [], 'R7': ['Approved amount'], 'R8': [], 'R9': ['Days to rejection']}\n",
      "==================== tfidf ====================\n",
      "Candidate templates for Q1\n",
      "{'R1': ['Amount paid within the observation period', 'Payment prediction for settlement payers'], 'R2': [], 'R3': ['Total payments amount so far'], 'R4': [], 'R5': [], 'R6': [], 'R7': [], 'R8': [], 'R9': []}\n",
      "Candidate templates for Q2\n",
      "{'R1': ['Amount paid within the observation period'], 'R2': ['Payment prediction for stray payers, not in active settlement'], 'R3': ['Total payments amount so far'], 'R4': [], 'R5': [], 'R6': [], 'R7': [], 'R8': [], 'R9': []}\n",
      "Candidate templates for Q3\n",
      "{'R1': ['Amount paid within the observation period'], 'R2': [], 'R3': ['Discount amount', 'Total future instalments amount'], 'R4': ['Settlement duration to 6 months (included)'], 'R5': [], 'R6': [], 'R7': [], 'R8': [], 'R9': []}\n",
      "Candidate templates for Q4\n",
      "{'R1': [], 'R2': [], 'R3': [], 'R4': ['Settlement duration 37 to 72 months (included)', 'Settlement duration to 6 months (included)', 'Settlement duration 7 to 12 months (included)', 'Settlement duration 13 to 36 months (included)', 'Settlement duration 73 to 108 months (included)', 'Settlement duration more than 109 months'], 'R5': [], 'R6': [], 'R7': [], 'R8': ['Days to approval'], 'R9': ['Days to rejection']}\n",
      "Candidate templates for Q5\n",
      "{'R1': ['Amount paid within the observation period', 'Payment prediction for settlement payers'], 'R2': ['Payment prediction for stray payers, not in active settlement'], 'R3': [], 'R4': [], 'R5': [], 'R6': [], 'R7': [], 'R8': [], 'R9': []}\n",
      "Candidate templates for Q6\n",
      "{'R1': ['Amount paid within the observation period'], 'R2': [], 'R3': [], 'R4': [], 'R5': [], 'R6': [], 'R7': ['Approved amount'], 'R8': [], 'R9': []}\n",
      "Candidate templates for Q7\n",
      "{'R1': [], 'R2': [], 'R3': [], 'R4': [], 'R5': [], 'R6': [], 'R7': ['Approved amount'], 'R8': ['Days to approval', 'Approved duration'], 'R9': []}\n",
      "Candidate templates for Q8\n",
      "{'R1': ['Amount paid within the observation period'], 'R2': [], 'R3': [], 'R4': [], 'R5': [], 'R6': [], 'R7': ['Approved amount'], 'R8': ['Approved duration', 'Days to approval'], 'R9': []}\n",
      "Candidate templates for Q9\n",
      "{'R1': ['Amount paid within the observation period'], 'R2': [], 'R3': [], 'R4': [], 'R5': [], 'R6': [], 'R7': ['Approved amount'], 'R8': [], 'R9': ['Days to rejection']}\n",
      "==================== word2vec ====================\n",
      "Candidate templates for Q1\n",
      "{'R1': ['Amount paid within the observation period'], 'R2': ['Payment prediction for stray payers, not in active settlement'], 'R3': ['Total payments amount so far'], 'R4': ['Settlement duration more than 109 months'], 'R5': [], 'R6': [], 'R7': [], 'R8': [], 'R9': []}\n",
      "Candidate templates for Q2\n",
      "{'R1': ['Amount paid within the observation period'], 'R2': ['Payment prediction for stray payers, not in active settlement'], 'R3': ['Total payments amount so far'], 'R4': ['Settlement duration more than 109 months'], 'R5': [], 'R6': [], 'R7': [], 'R8': [], 'R9': []}\n",
      "Candidate templates for Q3\n",
      "{'R1': ['Amount paid within the observation period'], 'R2': ['Payment prediction for stray payers, not in active settlement'], 'R3': ['Total payments amount so far'], 'R4': ['Settlement duration more than 109 months', 'Settlement duration 7 to 12 months (included)', 'Settlement duration to 6 months (included)', 'Settlement duration 13 to 36 months (included)', 'Settlement duration 37 to 72 months (included)'], 'R5': [], 'R6': [], 'R7': [], 'R8': [], 'R9': []}\n",
      "Candidate templates for Q4\n",
      "{'R1': ['Amount paid within the observation period'], 'R2': ['Payment prediction for stray payers, not in active settlement'], 'R3': [], 'R4': ['Settlement duration more than 109 months', 'Settlement duration 7 to 12 months (included)', 'Settlement duration to 6 months (included)'], 'R5': [], 'R6': [], 'R7': [], 'R8': [], 'R9': []}\n",
      "Candidate templates for Q5\n",
      "{'R1': ['Amount paid within the observation period'], 'R2': ['Payment prediction for stray payers, not in active settlement'], 'R3': [], 'R4': [], 'R5': [], 'R6': [], 'R7': [], 'R8': [], 'R9': []}\n",
      "Candidate templates for Q6\n",
      "{'R1': ['Amount paid within the observation period'], 'R2': ['Payment prediction for stray payers, not in active settlement'], 'R3': [], 'R4': [], 'R5': [], 'R6': [], 'R7': [], 'R8': [], 'R9': []}\n",
      "Candidate templates for Q7\n",
      "{'R1': ['Amount paid within the observation period'], 'R2': ['Payment prediction for stray payers, not in active settlement'], 'R3': [], 'R4': [], 'R5': [], 'R6': [], 'R7': [], 'R8': [], 'R9': []}\n",
      "Candidate templates for Q8\n",
      "{'R1': ['Amount paid within the observation period'], 'R2': ['Payment prediction for stray payers, not in active settlement'], 'R3': [], 'R4': [], 'R5': [], 'R6': [], 'R7': [], 'R8': [], 'R9': []}\n",
      "Candidate templates for Q9\n",
      "{'R1': ['Amount paid within the observation period'], 'R2': ['Payment prediction for stray payers, not in active settlement'], 'R3': [], 'R4': [], 'R5': [], 'R6': [], 'R7': [], 'R8': [], 'R9': []}\n",
      "==================== sbert ====================\n",
      "Candidate templates for Q1\n",
      "{'R1': [], 'R2': [], 'R3': ['Total future instalments amount'], 'R4': ['Settlement duration 7 to 12 months (included)', 'Settlement duration 13 to 36 months (included)', 'Settlement duration 37 to 72 months (included)', 'Settlement duration to 6 months (included)'], 'R5': [], 'R6': [], 'R7': [], 'R8': [], 'R9': []}\n",
      "Candidate templates for Q2\n",
      "{'R1': [], 'R2': ['Payment prediction for stray payers, not in active settlement'], 'R3': [], 'R4': ['Settlement duration 7 to 12 months (included)', 'Settlement duration 13 to 36 months (included)', 'Settlement duration 37 to 72 months (included)'], 'R5': [], 'R6': [], 'R7': [], 'R8': [], 'R9': []}\n",
      "Candidate templates for Q3\n",
      "{'R1': ['Payment prediction for settlement payers'], 'R2': [], 'R3': ['Total future instalments amount'], 'R4': [], 'R5': [], 'R6': [], 'R7': [], 'R8': [], 'R9': []}\n",
      "Candidate templates for Q4\n",
      "{'R1': [], 'R2': [], 'R3': [], 'R4': ['Settlement duration 7 to 12 months (included)', 'Settlement duration 37 to 72 months (included)', 'Settlement duration to 6 months (included)', 'Settlement duration 13 to 36 months (included)'], 'R5': [], 'R6': [], 'R7': [], 'R8': [], 'R9': []}\n",
      "Candidate templates for Q5\n",
      "{'R1': [], 'R2': [], 'R3': [], 'R4': ['Settlement duration 7 to 12 months (included)', 'Settlement duration 13 to 36 months (included)', 'Settlement duration to 6 months (included)', 'Settlement duration 37 to 72 months (included)'], 'R5': [], 'R6': [], 'R7': [], 'R8': [], 'R9': []}\n",
      "Candidate templates for Q6\n",
      "{'R1': [], 'R2': [], 'R3': [], 'R4': ['Settlement duration 13 to 36 months (included)', 'Settlement duration 7 to 12 months (included)', 'Settlement duration 37 to 72 months (included)'], 'R5': [], 'R6': [], 'R7': [], 'R8': [], 'R9': []}\n"
     ]
    }
   ],
   "source": [
    "from helper import *\n",
    "\n",
    "path='../reports/corpus.xlsx'\n",
    "descriptions = get_column_values(path, 'descriptions_measures', 'A')\n",
    "targets = get_column_values(path, 'descriptions_measures', 'B')\n",
    "n = 10\n",
    "\n",
    "for model in ['bow','tfidf','word2vec','sbert']:\n",
    "    print(f'==================== {model} ====================')\n",
    "    for i in range(9):\n",
    "        d = results_to_targets(descriptions, targets, model, n, path,i)\n",
    "        print(f'Candidate templates for Q{i+1}')\n",
    "        print(d)"
   ]
  }
 ],
 "metadata": {
  "kernelspec": {
   "display_name": "project",
   "language": "python",
   "name": "python3"
  },
  "language_info": {
   "codemirror_mode": {
    "name": "ipython",
    "version": 3
   },
   "file_extension": ".py",
   "mimetype": "text/x-python",
   "name": "python",
   "nbconvert_exporter": "python",
   "pygments_lexer": "ipython3",
   "version": "3.9.16"
  },
  "orig_nbformat": 4,
  "vscode": {
   "interpreter": {
    "hash": "6730b402c0f33b6bed7f8d0f7f3f069d5734816b753f081e1b7690f9108853e7"
   }
  }
 },
 "nbformat": 4,
 "nbformat_minor": 2
}
