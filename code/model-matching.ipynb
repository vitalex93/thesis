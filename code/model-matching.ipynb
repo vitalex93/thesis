{
 "cells": [
  {
   "cell_type": "code",
   "execution_count": 1,
   "metadata": {},
   "outputs": [
    {
     "name": "stderr",
     "output_type": "stream",
     "text": [
      "c:\\Users\\avitsas\\Anaconda3\\envs\\project\\lib\\site-packages\\tqdm\\auto.py:21: TqdmWarning: IProgress not found. Please update jupyter and ipywidgets. See https://ipywidgets.readthedocs.io/en/stable/user_install.html\n",
      "  from .autonotebook import tqdm as notebook_tqdm\n"
     ]
    },
    {
     "name": "stdout",
     "output_type": "stream",
     "text": [
      "==================== bow ====================\n",
      "Candidate templates for Q1\n",
      "{'R1': ['Amount paid within the observation period', 'Payment prediction for settlement payers'], 'R2': ['Amount paid within the observation period'], 'R3': ['Total payments amount so far'], 'R4': [], 'R5': [], 'R6': [], 'R7': [], 'R8': [], 'R9': []}\n"
     ]
    }
   ],
   "source": [
    "from helper import *\n",
    "\n",
    "path='../reports/corpus.xlsx'\n",
    "descriptions = get_column_values(path, 'descriptions_measures', 'A')\n",
    "targets = get_column_values(path, 'descriptions_measures', 'B')\n",
    "n = 10\n",
    "\n",
    "for model in ['bow','tfidf','word2vec','sbert']:\n",
    "    print(f'==================== {model} ====================')\n",
    "    if model == 'bow':\n",
    "        version = 'bow_model.joblib'\n",
    "    elif model == 'tfidf':\n",
    "        version = 'tfidf_model.joblib'\n",
    "    else:\n",
    "        version = None\n",
    "    for i in range(9):\n",
    "        d = results_to_targets(descriptions, targets, model, version, n, path,i)\n",
    "        print(f'Candidate templates for Q{i+1}')\n",
    "        print(d)"
   ]
  }
 ],
 "metadata": {
  "kernelspec": {
   "display_name": "project",
   "language": "python",
   "name": "python3"
  },
  "language_info": {
   "codemirror_mode": {
    "name": "ipython",
    "version": 3
   },
   "file_extension": ".py",
   "mimetype": "text/x-python",
   "name": "python",
   "nbconvert_exporter": "python",
   "pygments_lexer": "ipython3",
   "version": "3.9.16"
  },
  "orig_nbformat": 4,
  "vscode": {
   "interpreter": {
    "hash": "6730b402c0f33b6bed7f8d0f7f3f069d5734816b753f081e1b7690f9108853e7"
   }
  }
 },
 "nbformat": 4,
 "nbformat_minor": 2
}
