{
 "cells": [
  {
   "cell_type": "code",
   "execution_count": 1,
   "metadata": {},
   "outputs": [
    {
     "name": "stderr",
     "output_type": "stream",
     "text": [
      "c:\\Users\\avitsas\\Anaconda3\\envs\\project\\lib\\site-packages\\tqdm\\auto.py:21: TqdmWarning: IProgress not found. Please update jupyter and ipywidgets. See https://ipywidgets.readthedocs.io/en/stable/user_install.html\n",
      "  from .autonotebook import tqdm as notebook_tqdm\n"
     ]
    },
    {
     "name": "stdout",
     "output_type": "stream",
     "text": [
      "==================== bow ====================\n",
      "Candidate templates for Q1\n",
      "{'R1': ['payment prediction settlement payer'], 'R2': ['payment prediction stray payer active settlement'], 'R3': ['total payment amount far'], 'R4': ['settlement duration month', 'settlement duration month included'], 'R5': [], 'R6': [], 'R7': [], 'R8': [], 'R9': []}\n",
      "Candidate templates for Q2\n",
      "{'R1': ['payment prediction settlement payer'], 'R2': ['payment prediction stray payer active settlement'], 'R3': ['discount amount', 'total future instalment amount'], 'R4': ['settlement duration month', 'settlement duration month included'], 'R5': [], 'R6': [], 'R7': [], 'R8': [], 'R9': []}\n",
      "Candidate templates for Q3\n",
      "{'R1': ['payment prediction settlement payer'], 'R2': ['payment prediction stray payer active settlement'], 'R3': [], 'R4': ['settlement duration month', 'settlement duration month included'], 'R5': [], 'R6': [], 'R7': [], 'R8': [], 'R9': []}\n",
      "Candidate templates for Q4\n",
      "{'R1': [], 'R2': [], 'R3': [], 'R4': [], 'R5': [], 'R6': [], 'R7': [], 'R8': [], 'R9': []}\n",
      "Candidate templates for Q5\n",
      "{'R1': [], 'R2': [], 'R3': ['approved amount'], 'R4': [], 'R5': [], 'R6': ['approved amount'], 'R7': ['approved amount'], 'R8': ['approved amount'], 'R9': ['approved amount']}\n",
      "Candidate templates for Q6\n",
      "{'R1': [], 'R2': [], 'R3': ['approved amount'], 'R4': [], 'R5': [], 'R6': ['approved amount'], 'R7': ['approved amount'], 'R8': ['approved amount'], 'R9': ['approved amount']}\n",
      "Candidate templates for Q7\n",
      "{'R1': [], 'R2': [], 'R3': ['approved amount'], 'R4': ['settlement duration month', 'settlement duration month included'], 'R5': [], 'R6': ['approved amount'], 'R7': ['approved amount'], 'R8': ['approved amount', 'approved duration'], 'R9': ['approved amount']}\n",
      "Candidate templates for Q8\n",
      "{'R1': [], 'R2': [], 'R3': ['approved amount'], 'R4': [], 'R5': [], 'R6': ['approved amount'], 'R7': ['approved amount'], 'R8': ['approved amount'], 'R9': ['approved amount', 'day rejection']}\n"
     ]
    },
    {
     "ename": "IndexError",
     "evalue": "list index out of range",
     "output_type": "error",
     "traceback": [
      "\u001b[1;31m---------------------------------------------------------------------------\u001b[0m",
      "\u001b[1;31mIndexError\u001b[0m                                Traceback (most recent call last)",
      "Cell \u001b[1;32mIn[1], line 20\u001b[0m\n\u001b[0;32m     18\u001b[0m \u001b[39mif\u001b[39;00m model \u001b[39m==\u001b[39m \u001b[39m'\u001b[39m\u001b[39mbow\u001b[39m\u001b[39m'\u001b[39m:\n\u001b[0;32m     19\u001b[0m     version \u001b[39m=\u001b[39m version_bow\n\u001b[1;32m---> 20\u001b[0m     candidate_templates(descriptions\u001b[39m=\u001b[39;49mdescriptions, targets\u001b[39m=\u001b[39;49mtargets, \n\u001b[0;32m     21\u001b[0m                 model\u001b[39m=\u001b[39;49mmodel, version\u001b[39m=\u001b[39;49mversion, tm\u001b[39m=\u001b[39;49mtm, preprocessing\u001b[39m=\u001b[39;49mpreprocessing, path\u001b[39m=\u001b[39;49mpath, n\u001b[39m=\u001b[39;49mn)\n\u001b[0;32m     22\u001b[0m \u001b[39melif\u001b[39;00m model \u001b[39m==\u001b[39m \u001b[39m'\u001b[39m\u001b[39mtfidf\u001b[39m\u001b[39m'\u001b[39m:\n\u001b[0;32m     23\u001b[0m     version \u001b[39m=\u001b[39m version_tfidf\n",
      "File \u001b[1;32mc:\\Users\\avitsas\\Documents\\thesis\\code\\helper.py:228\u001b[0m, in \u001b[0;36mcandidate_templates\u001b[1;34m(descriptions, targets, model, version, tm, path, preprocessing, n)\u001b[0m\n\u001b[0;32m    226\u001b[0m \u001b[39mprint\u001b[39m(\u001b[39mf\u001b[39m\u001b[39m'\u001b[39m\u001b[39m==================== \u001b[39m\u001b[39m{\u001b[39;00mmodel\u001b[39m}\u001b[39;00m\u001b[39m ====================\u001b[39m\u001b[39m'\u001b[39m)\n\u001b[0;32m    227\u001b[0m \u001b[39mfor\u001b[39;00m i \u001b[39min\u001b[39;00m \u001b[39mrange\u001b[39m(\u001b[39m9\u001b[39m):\n\u001b[1;32m--> 228\u001b[0m     d \u001b[39m=\u001b[39m results_to_targets(descriptions\u001b[39m=\u001b[39;49mdescriptions, targets\u001b[39m=\u001b[39;49mtargets, model\u001b[39m=\u001b[39;49mmodel, \n\u001b[0;32m    229\u001b[0m                            version\u001b[39m=\u001b[39;49mversion, tm\u001b[39m=\u001b[39;49mtm, preprocessing\u001b[39m=\u001b[39;49mpreprocessing, n\u001b[39m=\u001b[39;49mn, path\u001b[39m=\u001b[39;49mpath, i\u001b[39m=\u001b[39;49mi)\n\u001b[0;32m    230\u001b[0m     \u001b[39mprint\u001b[39m(\u001b[39mf\u001b[39m\u001b[39m'\u001b[39m\u001b[39mCandidate templates for Q\u001b[39m\u001b[39m{\u001b[39;00mi\u001b[39m+\u001b[39m\u001b[39m1\u001b[39m\u001b[39m}\u001b[39;00m\u001b[39m'\u001b[39m)\n\u001b[0;32m    231\u001b[0m     \u001b[39mprint\u001b[39m(d)\n",
      "File \u001b[1;32mc:\\Users\\avitsas\\Documents\\thesis\\code\\helper.py:164\u001b[0m, in \u001b[0;36mresults_to_targets\u001b[1;34m(descriptions, targets, model, version, tm, preprocessing, n, path, i)\u001b[0m\n\u001b[0;32m    154\u001b[0m \u001b[39melif\u001b[39;00m preprocessing \u001b[39m==\u001b[39m \u001b[39mTrue\u001b[39;00m:\n\u001b[0;32m    155\u001b[0m     ground_truth \u001b[39m=\u001b[39m {\u001b[39m'\u001b[39m\u001b[39mR1\u001b[39m\u001b[39m'\u001b[39m:[preprocess_text(element) \u001b[39mfor\u001b[39;00m element \u001b[39min\u001b[39;00m get_column_values(path, \u001b[39m'\u001b[39m\u001b[39mR1\u001b[39m\u001b[39m'\u001b[39m, \u001b[39m'\u001b[39m\u001b[39mC\u001b[39m\u001b[39m'\u001b[39m)],\n\u001b[0;32m    156\u001b[0m                     \u001b[39m'\u001b[39m\u001b[39mR2\u001b[39m\u001b[39m'\u001b[39m:[preprocess_text(element) \u001b[39mfor\u001b[39;00m element \u001b[39min\u001b[39;00m get_column_values(path, \u001b[39m'\u001b[39m\u001b[39mR2\u001b[39m\u001b[39m'\u001b[39m, \u001b[39m'\u001b[39m\u001b[39mC\u001b[39m\u001b[39m'\u001b[39m)],\n\u001b[0;32m    157\u001b[0m                     \u001b[39m'\u001b[39m\u001b[39mR3\u001b[39m\u001b[39m'\u001b[39m:[preprocess_text(element) \u001b[39mfor\u001b[39;00m element \u001b[39min\u001b[39;00m get_column_values(path, \u001b[39m'\u001b[39m\u001b[39mR3\u001b[39m\u001b[39m'\u001b[39m, \u001b[39m'\u001b[39m\u001b[39mC\u001b[39m\u001b[39m'\u001b[39m)],\n\u001b[1;32m   (...)\u001b[0m\n\u001b[0;32m    162\u001b[0m                     \u001b[39m'\u001b[39m\u001b[39mR8\u001b[39m\u001b[39m'\u001b[39m:[preprocess_text(element) \u001b[39mfor\u001b[39;00m element \u001b[39min\u001b[39;00m get_column_values(path, \u001b[39m'\u001b[39m\u001b[39mR8\u001b[39m\u001b[39m'\u001b[39m, \u001b[39m'\u001b[39m\u001b[39mC\u001b[39m\u001b[39m'\u001b[39m)],\n\u001b[0;32m    163\u001b[0m                     \u001b[39m'\u001b[39m\u001b[39mR9\u001b[39m\u001b[39m'\u001b[39m:[preprocess_text(element) \u001b[39mfor\u001b[39;00m element \u001b[39min\u001b[39;00m get_column_values(path, \u001b[39m'\u001b[39m\u001b[39mR9\u001b[39m\u001b[39m'\u001b[39m, \u001b[39m'\u001b[39m\u001b[39mC\u001b[39m\u001b[39m'\u001b[39m)]}        \n\u001b[1;32m--> 164\u001b[0m matched \u001b[39m=\u001b[39m common_items(results[i], ground_truth)\n\u001b[0;32m    165\u001b[0m \u001b[39mreturn\u001b[39;00m matched\n",
      "\u001b[1;31mIndexError\u001b[0m: list index out of range"
     ]
    }
   ],
   "source": [
    "from helper import *\n",
    "\n",
    "path='../reports/corpus.xlsx'\n",
    "descriptions = [preprocess_text(element) for element in get_column_values(path, 'descriptions_measures', 'A')]\n",
    "targets = [preprocess_text(element) for element in get_column_values(path, 'descriptions_measures', 'B')]\n",
    "models = ['bow','tfidf','word2vec','sbert']\n",
    "preprocessing = True\n",
    "version_w2v = 'word2vec-google-news-300'\n",
    "version_sbert = 'bert-base-nli-mean-tokens'\n",
    "version_bow = 'preprocessedbow_model.joblib'\n",
    "version_tfidf = 'preprocessedtfidf_model.joblib'\n",
    "corpus = ['Descriptions']\n",
    "tm = TextModels(excel_path=path, columns=corpus,\n",
    "                 word2vec_version=version_w2v, sbert_model=version_sbert)\n",
    "n = 10\n",
    "\n",
    "for model in models:\n",
    "    if model == 'bow':\n",
    "        version = version_bow\n",
    "        candidate_templates(descriptions=descriptions, targets=targets, \n",
    "                    model=model, version=version, tm=tm, preprocessing=preprocessing, path=path, n=n)\n",
    "    elif model == 'tfidf':\n",
    "        version = version_tfidf\n",
    "        candidate_templates(descriptions=descriptions, targets=targets, \n",
    "            model=model, version=version, tm=tm, preprocessing=preprocessing, path=path, n=n)\n",
    "    elif model == 'word2vec':\n",
    "        version = version_w2v\n",
    "        candidate_templates(descriptions=descriptions, targets=targets, \n",
    "            model=model, version=version, tm=tm, preprocessing=preprocessing, path=path, n=n)\n",
    "    elif model == 'sbert':\n",
    "        version = version_sbert\n",
    "        candidate_templates(descriptions=descriptions, targets=targets, \n",
    "            model=model, version=version, tm=tm, preprocessing=preprocessing, path=path, n=n)\n"
   ]
  }
 ],
 "metadata": {
  "kernelspec": {
   "display_name": "project",
   "language": "python",
   "name": "python3"
  },
  "language_info": {
   "codemirror_mode": {
    "name": "ipython",
    "version": 3
   },
   "file_extension": ".py",
   "mimetype": "text/x-python",
   "name": "python",
   "nbconvert_exporter": "python",
   "pygments_lexer": "ipython3",
   "version": "3.9.16"
  },
  "orig_nbformat": 4,
  "vscode": {
   "interpreter": {
    "hash": "6730b402c0f33b6bed7f8d0f7f3f069d5734816b753f081e1b7690f9108853e7"
   }
  }
 },
 "nbformat": 4,
 "nbformat_minor": 2
}
