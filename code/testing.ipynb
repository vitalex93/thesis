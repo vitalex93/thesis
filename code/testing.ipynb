{
 "cells": [
  {
   "cell_type": "code",
   "execution_count": null,
   "metadata": {},
   "outputs": [],
   "source": [
    "from helper import *\n",
    "\n",
    "path='../reports/corpus.xlsx'\n",
    "\n",
    "description = get_column_values(path, 'descriptions_measures', 'A')\n",
    "\n",
    "\n",
    "targets = get_column_values(path, 'descriptions_measures', 'B')\n",
    "\n",
    "similarities_df = similarities_df(docs=description,group=targets,encoding_method='tfidf')\n",
    "\n",
    "similarities_df.head()"
   ]
  },
  {
   "cell_type": "code",
   "execution_count": null,
   "metadata": {},
   "outputs": [],
   "source": [
    "from helper import *\n",
    "\n",
    "Q1 = 'Create a report that shows the number of settlement applications approved during the month, their approved amount,\\\n",
    "      the written off balance, the average days to approval, their average and median duration and their entry principal and balance, \\\n",
    "        for September 2020 per DCA and application type. The report should be produced on Earth portfolio. '\n",
    "\n",
    "path = '../reports/corpus.xlsx'\n",
    "targets = get_column_values(path, 'descriptions_measures', 'B')\n",
    "encoding_method = 'word2vec'\n",
    "version = 'word2vec-google-news-300'\n",
    "\n",
    "\n",
    "\n",
    "\n",
    "similarities_dict = get_similarity_scores(text=Q1,documents=targets,encoding_method=encoding_method,version=version)\n",
    "\n",
    "top_10 = get_first_n_keys(similarities_dict, 10)\n",
    "\n",
    "\n",
    "top_10"
   ]
  },
  {
   "cell_type": "code",
   "execution_count": 1,
   "metadata": {},
   "outputs": [
    {
     "name": "stderr",
     "output_type": "stream",
     "text": [
      "[nltk_data] Downloading package stopwords to\n",
      "[nltk_data]     C:\\Users\\avitsas\\AppData\\Roaming\\nltk_data...\n",
      "[nltk_data]   Package stopwords is already up-to-date!\n",
      "[nltk_data] Downloading package wordnet to\n",
      "[nltk_data]     C:\\Users\\avitsas\\AppData\\Roaming\\nltk_data...\n",
      "[nltk_data]   Package wordnet is already up-to-date!\n",
      "[nltk_data] Downloading package punkt to\n",
      "[nltk_data]     C:\\Users\\avitsas\\AppData\\Roaming\\nltk_data...\n",
      "[nltk_data]   Package punkt is already up-to-date!\n",
      "c:\\Users\\avitsas\\Anaconda3\\envs\\project\\lib\\site-packages\\tqdm\\auto.py:21: TqdmWarning: IProgress not found. Please update jupyter and ipywidgets. See https://ipywidgets.readthedocs.io/en/stable/user_install.html\n",
      "  from .autonotebook import tqdm as notebook_tqdm\n"
     ]
    },
    {
     "data": {
      "text/plain": [
       "['Create',\n",
       " 'a',\n",
       " 'that',\n",
       " 'shows',\n",
       " 'the',\n",
       " 'of',\n",
       " 'applications',\n",
       " 'during',\n",
       " 'the',\n",
       " 'month,',\n",
       " 'their',\n",
       " 'amount,',\n",
       " 'the',\n",
       " 'off',\n",
       " 'balance,',\n",
       " 'the',\n",
       " 'days',\n",
       " 'to',\n",
       " 'approval,',\n",
       " 'their',\n",
       " 'and',\n",
       " 'and',\n",
       " 'their',\n",
       " 'and',\n",
       " 'balance,',\n",
       " 'for',\n",
       " 'September',\n",
       " '2020',\n",
       " 'DCA',\n",
       " 'and',\n",
       " 'type.',\n",
       " 'The',\n",
       " 'should',\n",
       " 'be',\n",
       " 'on',\n",
       " 'Earth',\n",
       " 'portfolio.']"
      ]
     },
     "execution_count": 1,
     "metadata": {},
     "output_type": "execute_result"
    }
   ],
   "source": [
    "from preprocessing import *\n",
    "from helper import *\n",
    "\n",
    "Q1 = 'Create a report that shows the number of settlement applications approved during the month, their approved amount,\\\n",
    "      the written off balance, the average days to approval, their average and median duration and their entry principal and balance, \\\n",
    "        for September 2020 per DCA and application type. The report should be produced on Earth portfolio. '\n",
    "processed_text = preprocess_text(Q1)\n",
    "\n",
    "\n",
    "\n",
    "w2v = api.load(\"word2vec-google-news-300\")\n",
    "vocab = w2v.index_to_key\n",
    "words = Q1.split()\n",
    "\n",
    "\n",
    "count = sum(1 for word in processed_text if word in w2v)\n",
    "existing_words = [word for word in processed_text if word in w2v]\n",
    "difference = len(words) - count\n",
    "\n",
    "pr, orig = get_unique_items(words, processed_text)\n",
    "\n",
    "pr"
   ]
  },
  {
   "cell_type": "code",
   "execution_count": 1,
   "metadata": {},
   "outputs": [
    {
     "name": "stderr",
     "output_type": "stream",
     "text": [
      "[nltk_data] Downloading package stopwords to\n",
      "[nltk_data]     C:\\Users\\avitsas\\AppData\\Roaming\\nltk_data...\n",
      "[nltk_data]   Package stopwords is already up-to-date!\n",
      "[nltk_data] Downloading package wordnet to\n",
      "[nltk_data]     C:\\Users\\avitsas\\AppData\\Roaming\\nltk_data...\n",
      "[nltk_data]   Package wordnet is already up-to-date!\n",
      "[nltk_data] Downloading package punkt to\n",
      "[nltk_data]     C:\\Users\\avitsas\\AppData\\Roaming\\nltk_data...\n",
      "[nltk_data]   Package punkt is already up-to-date!\n"
     ]
    },
    {
     "data": {
      "text/plain": [
       "['create',\n",
       " 'report',\n",
       " 'show',\n",
       " 'number',\n",
       " 'settlement',\n",
       " 'application',\n",
       " 'approved',\n",
       " 'month',\n",
       " 'approved',\n",
       " 'amount',\n",
       " 'written',\n",
       " 'balance',\n",
       " 'average',\n",
       " 'day',\n",
       " 'approval',\n",
       " 'average',\n",
       " 'median',\n",
       " 'duration',\n",
       " 'entry',\n",
       " 'principal',\n",
       " 'balance',\n",
       " 'september',\n",
       " 'per',\n",
       " 'dca',\n",
       " 'application',\n",
       " 'type',\n",
       " 'report',\n",
       " 'produced',\n",
       " 'earth',\n",
       " 'portfolio']"
      ]
     },
     "execution_count": 1,
     "metadata": {},
     "output_type": "execute_result"
    }
   ],
   "source": [
    "from preprocessing import *\n",
    "\n",
    "Q1 = 'Create a report that shows the number of settlement applications approved during the month, their approved amount,\\\n",
    "      the written off balance, the average days to approval, their average and median duration and their entry principal and balance, \\\n",
    "        for September 2020 per DCA and application type. The report should be produced on Earth portfolio. '\n",
    "\n",
    "processed_text = preprocess_text(Q1)\n",
    "\n",
    "processed_text"
   ]
  }
 ],
 "metadata": {
  "kernelspec": {
   "display_name": "project",
   "language": "python",
   "name": "python3"
  },
  "language_info": {
   "codemirror_mode": {
    "name": "ipython",
    "version": 3
   },
   "file_extension": ".py",
   "mimetype": "text/x-python",
   "name": "python",
   "nbconvert_exporter": "python",
   "pygments_lexer": "ipython3",
   "version": "3.9.16"
  },
  "orig_nbformat": 4,
  "vscode": {
   "interpreter": {
    "hash": "6730b402c0f33b6bed7f8d0f7f3f069d5734816b753f081e1b7690f9108853e7"
   }
  }
 },
 "nbformat": 4,
 "nbformat_minor": 2
}
