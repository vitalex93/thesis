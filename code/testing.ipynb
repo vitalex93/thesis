{
 "cells": [
  {
   "cell_type": "code",
   "execution_count": null,
   "metadata": {},
   "outputs": [],
   "source": [
    "from helper import *\n",
    "\n",
    "path='../reports/corpus.xlsx'\n",
    "\n",
    "description = get_column_values(path, 'descriptions_measures', 'A')\n",
    "\n",
    "\n",
    "targets = get_column_values(path, 'descriptions_measures', 'B')\n",
    "\n",
    "similarities_df = similarities_df(docs=description,group=targets,encoding_method='tfidf')\n",
    "\n",
    "similarities_df.head()"
   ]
  },
  {
   "cell_type": "code",
   "execution_count": 5,
   "metadata": {},
   "outputs": [
    {
     "data": {
      "text/plain": [
       "['Status of the last submitted application within the observation period.',\n",
       " 'Application status at the end of the preceding observation period',\n",
       " 'Application type in the observation period',\n",
       " 'Amount paid within the observation period',\n",
       " 'Balance written off',\n",
       " 'Application bucket in the previous observation period',\n",
       " 'Last rejection date of all applications within the observation perion',\n",
       " 'Approved amount',\n",
       " 'Approved duration',\n",
       " 'Days to approval']"
      ]
     },
     "execution_count": 5,
     "metadata": {},
     "output_type": "execute_result"
    }
   ],
   "source": [
    "from helper import *\n",
    "\n",
    "Q1 = 'Create a report that shows the number of settlement applications approved during the month, their approved amount,\\\n",
    "      the written off balance, the average days to approval, their average and median duration and their entry principal and balance, \\\n",
    "        for September 2020 per DCA and application type. The report should be produced on Earth portfolio. '\n",
    "\n",
    "path = '../reports/corpus.xlsx'\n",
    "\n",
    "targets = get_column_values(path, 'descriptions_measures', 'B')\n",
    "\n",
    "\n",
    "\n",
    "\n",
    "similarities_dict = get_similarity_scores(text=Q1,documents=targets,encoding_method='bow')\n",
    "\n",
    "top_10 = get_first_n_keys(similarities_dict, 10)\n",
    "\n",
    "top_10"
   ]
  },
  {
   "cell_type": "code",
   "execution_count": 3,
   "metadata": {},
   "outputs": [
    {
     "data": {
      "text/plain": [
       "{'Provide a report that displays the number of accounts with running settlements for the Earth portfolio, their expected monthly payments at the end of the examined month and their actual monthly payments per DCA, for September 2020. ': ['Application status at the end of the preceding observation period',\n",
       "  'Status of the last submitted application within the observation period.',\n",
       "  'Last rejection date of all applications within the observation perion',\n",
       "  'Application type in the observation period',\n",
       "  'Amount paid within the observation period',\n",
       "  'Application bucket in the previous observation period',\n",
       "  'Portfolio',\n",
       "  'Payment prediction for settlement payers',\n",
       "  'Total payments amount so far',\n",
       "  'Portfolio grouping'],\n",
       " 'Provide a report that displays the number of accounts not in running settlements for the Earth portfolio, their expected monthly payments at the end of the examined month and their actual monthly payments per DCA, for September 2020.': ['Application status at the end of the preceding observation period',\n",
       "  'Status of the last submitted application within the observation period.',\n",
       "  'Application type in the observation period',\n",
       "  'Last rejection date of all applications within the observation perion',\n",
       "  'Application bucket in the previous observation period',\n",
       "  'Amount paid within the observation period',\n",
       "  'Payment prediction for stray payers, not in active settlement',\n",
       "  'Portfolio',\n",
       "  'Application status in previous month',\n",
       "  'Payment prediction for settlement payers'],\n",
       " 'Provide the number of customers with active and running settlements of types Settlement, Preappoved, Resch to Sett, Out of Mandate Had Settlement and null on the Earth portfolio, the corresponding number of applications, the initial settlement amount, discount amount and future instalments per asset class and DCA, for September 2020.': ['Status of the last submitted application within the observation period.',\n",
       "  'Application status at the end of the preceding observation period',\n",
       "  'Last rejection date of all applications within the observation perion',\n",
       "  'Amount paid within the observation period',\n",
       "  'Discount amount',\n",
       "  'Settlement duration',\n",
       "  'Total future instalments amount',\n",
       "  'Payment prediction for settlement payers',\n",
       "  'Settlement duration to 6 months (included)',\n",
       "  'Principal amount class'],\n",
       " 'Provide the distribution of the number of active and running settlements of types Settlement, Preappoved, Resch to Sett, Out of Mandate Had Settlement and null on the Earth portfolio based on their duration on the following bins: up to 6 months, 7 to 12 months, 13 to 36 months, 37 to 72 months, 72 to 108 months and more than 109 months. The analysis should be performane per asset class and DCA, for September 2020.': ['Settlement duration 37 to 72 months (included)',\n",
       "  'Settlement duration to 6 months (included)',\n",
       "  'Settlement duration 7 to 12 months (included)',\n",
       "  'Settlement duration 13 to 36 months (included)',\n",
       "  'Settlement duration 73 to 108 months (included)',\n",
       "  'Settlement duration more than 109 months',\n",
       "  'Status of the last submitted application within the observation period.',\n",
       "  'Application status at the end of the preceding observation period',\n",
       "  'Days to approval',\n",
       "  'Days to rejection'],\n",
       " 'Produce a report that shows the bucket roll rates.\\nOn the rows of the report display the application bucket of the previous month for the following categories: 1, 2, 3, 4, 5, 6, 7-12, 13+, null\\nOn the columns of the report display the application bucket of the current month for the same bucket categories.\\nThe report should measure the number of active and running applications for each pair of the aforementioned previous/current bucket categories for Mirror portfolio, for September 2020.': ['Status of the last submitted application within the observation period.',\n",
       "  'Application status at the end of the preceding observation period',\n",
       "  'Application bucket in the previous observation period',\n",
       "  'Last rejection date of all applications within the observation perion',\n",
       "  'Application type in the observation period',\n",
       "  'Amount paid within the observation period',\n",
       "  'Bucket class for active arrangements or cancelled status',\n",
       "  'Application status in previous month',\n",
       "  'Payment prediction for settlement payers',\n",
       "  'Payment prediction for stray payers, not in active settlement'],\n",
       " 'Create a report that shows the number of settlement applications submitted during the month, their approved amount and their entry principal and balance, for September 2020  per DCA and application type. The report should be produced on Earth portfolio.': ['Status of the last submitted application within the observation period.',\n",
       "  'Application status at the end of the preceding observation period',\n",
       "  'Application type in the observation period',\n",
       "  'Amount paid within the observation period',\n",
       "  'Last rejection date of all applications within the observation perion',\n",
       "  'Application bucket in the previous observation period',\n",
       "  'Approved amount',\n",
       "  'Application type',\n",
       "  'Principal amount class',\n",
       "  'Portfolio'],\n",
       " 'Create a report that shows the number of pending settlement applications (in status Review, Working, Quality Control, For approval and Approved) submitted up to the end of the previous month, their approved amount, the average pending days  and their entry principal and balance, for September 2020  per DCA and application type. The report should be produced on Earth portfolio.': ['Application status at the end of the preceding observation period',\n",
       "  'Status of the last submitted application within the observation period.',\n",
       "  'Application type in the observation period',\n",
       "  'Application bucket in the previous observation period',\n",
       "  'Last rejection date of all applications within the observation perion',\n",
       "  'Amount paid within the observation period',\n",
       "  'Application status in previous month',\n",
       "  'Approved amount',\n",
       "  'Pending days',\n",
       "  'Days to approval'],\n",
       " 'Create a report that shows the number of settlement applications approved during the month, their approved amount, the written off balance, the average days to approval, their average and median duration and their entry principal and balance, for September 2020 per DCA and application type. The report should be produced on Earth portfolio.': ['Status of the last submitted application within the observation period.',\n",
       "  'Application status at the end of the preceding observation period',\n",
       "  'Application type in the observation period',\n",
       "  'Amount paid within the observation period',\n",
       "  'Balance written off',\n",
       "  'Application bucket in the previous observation period',\n",
       "  'Last rejection date of all applications within the observation perion',\n",
       "  'Approved amount',\n",
       "  'Approved duration',\n",
       "  'Days to approval'],\n",
       " 'Create a report that shows the number of settlement applications rejected during the month, their approved amount, the average days to rejection, their entry principal and entry balance, for September 2020 per DCA and application type. The report should be produced on Earth portfolio.': ['Status of the last submitted application within the observation period.',\n",
       "  'Application status at the end of the preceding observation period',\n",
       "  'Application type in the observation period',\n",
       "  'Last rejection date of all applications within the observation perion',\n",
       "  'Amount paid within the observation period',\n",
       "  'Application bucket in the previous observation period',\n",
       "  'Days to rejection',\n",
       "  'Approved amount',\n",
       "  'Application type',\n",
       "  'Principal amount class']}"
      ]
     },
     "execution_count": 3,
     "metadata": {},
     "output_type": "execute_result"
    }
   ],
   "source": [
    "from helper import *\n",
    "\n",
    "path='../reports/corpus.xlsx'\n",
    "descriptions = get_column_values(path, 'descriptions_measures', 'A')\n",
    "targets = get_column_values(path, 'descriptions_measures', 'B')\n",
    "\n",
    "d = get_similarities_for_values(description,targets,'bow',10)\n",
    "\n",
    "d\n"
   ]
  }
 ],
 "metadata": {
  "kernelspec": {
   "display_name": "project",
   "language": "python",
   "name": "python3"
  },
  "language_info": {
   "codemirror_mode": {
    "name": "ipython",
    "version": 3
   },
   "file_extension": ".py",
   "mimetype": "text/x-python",
   "name": "python",
   "nbconvert_exporter": "python",
   "pygments_lexer": "ipython3",
   "version": "3.9.16"
  },
  "orig_nbformat": 4,
  "vscode": {
   "interpreter": {
    "hash": "6730b402c0f33b6bed7f8d0f7f3f069d5734816b753f081e1b7690f9108853e7"
   }
  }
 },
 "nbformat": 4,
 "nbformat_minor": 2
}
