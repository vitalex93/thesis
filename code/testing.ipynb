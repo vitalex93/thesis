{
 "cells": [
  {
   "cell_type": "code",
   "execution_count": null,
   "metadata": {},
   "outputs": [],
   "source": [
    "from helper import *\n",
    "\n",
    "path='../reports/corpus.xlsx'\n",
    "\n",
    "description = get_column_values(path, 'descriptions_measures', 'A')\n",
    "\n",
    "\n",
    "targets = get_column_values(path, 'descriptions_measures', 'B')\n",
    "\n",
    "similarities_df = similarities_df(docs=description,group=targets,encoding_method='tfidf')\n",
    "\n",
    "similarities_df.head()"
   ]
  },
  {
   "cell_type": "code",
   "execution_count": null,
   "metadata": {},
   "outputs": [],
   "source": [
    "from helper import *\n",
    "\n",
    "path = '../reports/corpus.xlsx'\n",
    "corpus = ['Descriptions']\n",
    "model = 'word2vec'\n",
    "version = 'word2vec-google-news-300'\n",
    "descriptions = get_column_values(path, 'descriptions_measures', 'A')\n",
    "targets = get_column_values(path, 'descriptions_measures', 'B')\n",
    "n = 10\n",
    "tm = TextModels(excel_path=path, columns=corpus)\n",
    "\n",
    "\n",
    "candidate_templates(descriptions=descriptions, targets=targets, \n",
    "                    model=model, version=version, tm=tm, path=path, n=n)"
   ]
  },
  {
   "cell_type": "code",
   "execution_count": null,
   "metadata": {},
   "outputs": [],
   "source": [
    "from helper import *\n",
    "\n",
    "Q1 = 'Create a report that shows the number of settlement applications approved during the month, their approved amount,\\\n",
    "      the written off balance, the average days to approval, their average and median duration and their entry principal and balance, \\\n",
    "        for September 2020 per DCA and application type. The report should be produced on Earth portfolio. '\n",
    "\n",
    "path = '../reports/corpus.xlsx'\n",
    "targets = get_column_values(path, 'descriptions_measures', 'B')\n",
    "encoding_method = 'word2vec'\n",
    "version = 'word2vec-google-news-300'\n",
    "\n",
    "\n",
    "\n",
    "\n",
    "similarities_dict = get_similarity_scores(text=Q1,documents=targets,encoding_method=encoding_method,version=version)\n",
    "\n",
    "top_10 = get_first_n_keys(similarities_dict, 10)\n",
    "\n",
    "\n",
    "top_10"
   ]
  }
 ],
 "metadata": {
  "kernelspec": {
   "display_name": "project",
   "language": "python",
   "name": "python3"
  },
  "language_info": {
   "codemirror_mode": {
    "name": "ipython",
    "version": 3
   },
   "file_extension": ".py",
   "mimetype": "text/x-python",
   "name": "python",
   "nbconvert_exporter": "python",
   "pygments_lexer": "ipython3",
   "version": "3.9.16"
  },
  "orig_nbformat": 4,
  "vscode": {
   "interpreter": {
    "hash": "6730b402c0f33b6bed7f8d0f7f3f069d5734816b753f081e1b7690f9108853e7"
   }
  }
 },
 "nbformat": 4,
 "nbformat_minor": 2
}
