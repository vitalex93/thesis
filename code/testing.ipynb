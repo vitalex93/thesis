{
 "cells": [
  {
   "cell_type": "code",
   "execution_count": null,
   "metadata": {},
   "outputs": [],
   "source": [
    "from helper import *\n",
    "\n",
    "path='../reports/corpus.xlsx'\n",
    "\n",
    "description = get_column_values(path, 'descriptions_measures', 'A')\n",
    "\n",
    "\n",
    "targets = get_column_values(path, 'descriptions_measures', 'B')\n",
    "\n",
    "similarities_df = similarities_df(docs=description,group=targets,encoding_method='tfidf')\n",
    "\n",
    "similarities_df.head()"
   ]
  },
  {
   "cell_type": "code",
   "execution_count": null,
   "metadata": {},
   "outputs": [],
   "source": [
    "from helper import *\n",
    "\n",
    "Q1 = 'Create a report that shows the number of settlement applications approved during the month, their approved amount,\\\n",
    "      the written off balance, the average days to approval, their average and median duration and their entry principal and balance, \\\n",
    "        for September 2020 per DCA and application type. The report should be produced on Earth portfolio. '\n",
    "\n",
    "path = '../reports/corpus.xlsx'\n",
    "targets = get_column_values(path, 'descriptions_measures', 'B')\n",
    "encoding_method = 'word2vec'\n",
    "version = 'word2vec-google-news-300'\n",
    "\n",
    "\n",
    "\n",
    "\n",
    "similarities_dict = get_similarity_scores(text=Q1,documents=targets,encoding_method=encoding_method,version=version)\n",
    "\n",
    "top_10 = get_first_n_keys(similarities_dict, 10)\n",
    "\n",
    "\n",
    "top_10"
   ]
  },
  {
   "cell_type": "code",
   "execution_count": null,
   "metadata": {},
   "outputs": [],
   "source": [
    "from helper import *\n",
    "\n",
    "Q1 = 'Create a report that shows the number of settlement applications approved during the month, their approved amount,\\\n",
    "      the written off balance, the average days to approval, their average and median duration and their entry principal and balance, \\\n",
    "        for September 2020 per DCA and application type. The report should be produced on Earth portfolio. '\n",
    "\n",
    "processed_text = preprocess_text(Q1)\n",
    "\n",
    "\n",
    "\n",
    "w2v = api.load(\"word2vec-google-news-300\")\n",
    "vocab = w2v.index_to_key\n",
    "words = Q1.split()\n",
    "\n",
    "\n",
    "count = sum(1 for word in processed_text if word in w2v)\n",
    "existing_words = [word for word in processed_text if word in w2v]\n",
    "difference = len(words) - count\n",
    "\n",
    "pr, orig = get_unique_items(words, processed_text)\n",
    "\n",
    "pr"
   ]
  },
  {
   "cell_type": "code",
   "execution_count": 5,
   "metadata": {},
   "outputs": [
    {
     "data": {
      "text/plain": [
       "['settlement duration 6 month included',\n",
       " 'settlement duration 7 12 month included',\n",
       " 'settlement duration 13 36 month included',\n",
       " 'settlement duration 37 72 month included',\n",
       " 'settlement duration 73 108 month included',\n",
       " 'settlement duration 109 month']"
      ]
     },
     "execution_count": 5,
     "metadata": {},
     "output_type": "execute_result"
    }
   ],
   "source": [
    "from helper import *\n",
    "\n",
    "path='../reports/corpus.xlsx'\n",
    "\n",
    "Q1 = 'Create a report that shows the number of settlement applications approved during the month, their approved amount,\\\n",
    "      the written off balance, the average days to approval, their average and median duration and their entry principal and balance, \\\n",
    "        for September 2020 per DCA and application type. The report should be produced on Earth portfolio. '\n",
    "\n",
    "Q2 = 'Provide a report that displays the number of accounts not in running settlements for the Earth portfolio, \\\n",
    "  their expected monthly payments at the end of the examined month and their actual monthly payments per DCA, for September 2020.'\n",
    "\n",
    "ground_truth = {'R1':[preprocess_text(element) for element in get_column_values(path, 'R1', 'C')],\n",
    "                        'R2':[preprocess_text(element) for element in get_column_values(path, 'R2', 'C')],\n",
    "                        'R3':[preprocess_text(element) for element in get_column_values(path, 'R3', 'C')],\n",
    "                        'R4':[preprocess_text(element) for element in get_column_values(path, 'R4', 'C')],\n",
    "                        'R5':[preprocess_text(element) for element in get_column_values(path, 'R5', 'C')],\n",
    "                        'R6':[preprocess_text(element) for element in get_column_values(path, 'R6', 'C')],\n",
    "                        'R7':[preprocess_text(element) for element in get_column_values(path, 'R7', 'C')],\n",
    "                        'R8':[preprocess_text(element) for element in get_column_values(path, 'R8', 'C')],\n",
    "                        'R9':[preprocess_text(element) for element in get_column_values(path, 'R9', 'C')]}   \n",
    "\n",
    "processed_text = preprocess_text(Q2)\n",
    "\n",
    "ground_truth['R4']\n"
   ]
  },
  {
   "cell_type": "code",
   "execution_count": 1,
   "metadata": {},
   "outputs": [
    {
     "name": "stderr",
     "output_type": "stream",
     "text": [
      "c:\\Users\\avitsas\\Anaconda3\\envs\\project\\lib\\site-packages\\tqdm\\auto.py:21: TqdmWarning: IProgress not found. Please update jupyter and ipywidgets. See https://ipywidgets.readthedocs.io/en/stable/user_install.html\n",
      "  from .autonotebook import tqdm as notebook_tqdm\n"
     ]
    },
    {
     "name": "stdout",
     "output_type": "stream",
     "text": [
      "Bag-of-words model saved to preprocessed_nums_bow_model.joblib\n",
      "TF-IDF model saved to preprocessed_nums_tfidf_model.joblib\n"
     ]
    }
   ],
   "source": [
    "from helper import *\n",
    "\n",
    "path='../reports/corpus.xlsx'\n",
    "descriptions = get_column_values(path, 'descriptions_measures', 'A')\n",
    "targets = get_column_values(path, 'descriptions_measures', 'B')\n",
    "models = ['bow','tfidf','word2vec','sbert']\n",
    "version_w2v = 'word2vec-google-news-300'\n",
    "version_sbert = 'bert-base-nli-mean-tokens'\n",
    "version_bow = 'bow_model.joblib'\n",
    "version_tfidf = 'tfidf_model.joblib'\n",
    "corpus = ['Descriptions']\n",
    "tm = TextModels(excel_path=path, columns=corpus,\n",
    "                 word2vec_version=version_w2v, sbert_model=version_sbert)\n",
    "\n",
    "tm.build_bow_model(preprocessing=True)\n",
    "tm.build_tfidf_model(preprocessing=True)\n",
    "\n",
    "tm.save_models('preprocessed_nums_')"
   ]
  },
  {
   "cell_type": "code",
   "execution_count": 6,
   "metadata": {},
   "outputs": [
    {
     "data": {
      "text/plain": [
       "['settlement duration 109 month',\n",
       " 'settlement duration 6 month included',\n",
       " 'settlement duration 7 12 month included',\n",
       " 'settlement duration 13 36 month included',\n",
       " 'settlement duration 37 72 month included',\n",
       " 'settlement duration 73 108 month included',\n",
       " 'month arrears 1 month ago',\n",
       " 'application status previous month',\n",
       " 'settlement duration',\n",
       " 'payment prediction stray payer active settlement']"
      ]
     },
     "execution_count": 6,
     "metadata": {},
     "output_type": "execute_result"
    }
   ],
   "source": [
    "from helper import *\n",
    "\n",
    "path='../reports/corpus.xlsx'\n",
    "descriptions = [preprocess_text(element) for element in get_column_values(path, 'descriptions_measures', 'A')]\n",
    "targets = [preprocess_text(element) for element in get_column_values(path, 'descriptions_measures', 'B')]\n",
    "models = ['bow','tfidf','word2vec','sbert']\n",
    "preprocessing = True\n",
    "version_w2v = 'word2vec-google-news-300'\n",
    "version_sbert = 'bert-base-nli-mean-tokens'\n",
    "version_bow = 'preprocessedbow_model.joblib'\n",
    "version_tfidf = 'preprocessedtfidf_model.joblib'\n",
    "corpus = ['Descriptions']\n",
    "tm = TextModels(excel_path=path, columns=corpus,\n",
    "                 word2vec_version=version_w2v, sbert_model=version_sbert)\n",
    "n = 10\n",
    "\n",
    "df = results_to_targets(descriptions=descriptions,targets=targets,model='bow',version=version_bow,\n",
    "                        tm=tm, preprocessing=preprocessing,n=n,path=path, i=5)\n",
    "\n",
    "\n",
    "dictsim = get_similarities_for_values(values=descriptions, docs=targets,encoding_method='bow',version=version_bow,\n",
    "                                      tm=tm, n=n)\n",
    "\n",
    "dictsim['R4']"
   ]
  },
  {
   "cell_type": "code",
   "execution_count": 22,
   "metadata": {},
   "outputs": [
    {
     "data": {
      "text/plain": [
       "array([ 1.31492633e-02, -4.20540804e-03, -1.29327383e-02, -3.89890969e-02,\n",
       "        2.00114567e-02,  6.81758597e-02, -2.17630267e-02,  5.33513799e-02,\n",
       "       -8.37658867e-02, -4.65147849e-03,  5.87817281e-02,  3.67194675e-02,\n",
       "        1.28513575e-02, -1.43598272e-02,  9.20590535e-02, -2.45275721e-02,\n",
       "       -2.35330313e-02, -1.20365415e-02,  1.70432646e-02,  1.51344892e-02,\n",
       "        2.24123746e-02, -1.83520168e-02,  9.59865376e-02,  5.83819486e-03,\n",
       "       -1.24128275e-02,  3.04218760e-04,  1.75759532e-02, -8.76721665e-02,\n",
       "        1.45472679e-02, -1.59729756e-02,  1.36605613e-02,  8.50527287e-02,\n",
       "        4.67060395e-02,  2.25175750e-02, -1.60711668e-02,  1.20551288e-02,\n",
       "        3.39188986e-02,  2.09134184e-02, -2.33625975e-02, -2.07496490e-02,\n",
       "       -3.72966938e-02,  7.42469123e-03, -5.57868853e-02, -2.32826415e-02,\n",
       "        4.40336913e-02,  7.86332712e-02,  6.79416023e-03, -4.16686758e-02,\n",
       "        1.65942125e-02, -1.28476759e-02, -1.46856140e-02, -2.88262637e-03,\n",
       "        2.75255740e-02,  1.63994078e-02,  1.60908047e-02, -3.44152935e-02,\n",
       "        7.49616027e-02,  4.04170826e-02, -3.17057297e-02, -2.69325654e-04,\n",
       "        5.65275252e-02, -6.32511154e-02,  5.61217852e-02,  5.27625792e-02,\n",
       "        4.89274971e-03, -2.73681153e-02,  4.40235212e-02, -1.06389247e-01,\n",
       "       -1.81605443e-02, -2.60046534e-02, -1.39972195e-02,  6.19623512e-02,\n",
       "       -8.72236416e-02, -2.87578795e-02,  2.77678967e-02,  7.08340481e-02,\n",
       "       -1.24954134e-01, -5.72555512e-02, -7.88408797e-03, -1.06427819e-01,\n",
       "       -2.77678967e-02,  1.12910219e-01,  2.66709551e-02, -5.73381335e-02,\n",
       "        8.66541266e-03,  1.92511734e-02,  7.35777169e-02, -5.62497862e-02,\n",
       "        7.91617576e-03, -1.90954693e-02, -3.71992029e-02,  2.15109834e-03,\n",
       "        1.65652819e-02,  1.24404609e-01,  2.70581096e-02,  5.22940652e-03,\n",
       "       -1.55844167e-02,  1.20214629e-03, -3.34139168e-02,  1.50682088e-02,\n",
       "       -6.88475966e-02,  9.97164249e-02,  3.38143967e-02,  9.43569094e-03,\n",
       "       -2.63840966e-02,  4.88983877e-02,  6.42653853e-02,  3.96683738e-02,\n",
       "        2.20720796e-03,  6.71925396e-02, -1.92827359e-02,  9.74955317e-03,\n",
       "        2.81122662e-02, -4.79596062e-03, -3.12193315e-02, -3.05730216e-02,\n",
       "       -3.70698236e-02,  1.51453605e-02, -1.23800032e-01, -2.60642711e-02,\n",
       "        7.12352395e-02,  3.69887948e-02,  3.43460366e-02, -3.44533473e-02,\n",
       "       -2.23948844e-02, -3.91542725e-02,  3.75779420e-02,  9.08065811e-02,\n",
       "       -4.15687338e-02, -4.36027013e-02, -5.26237115e-03,  6.07483611e-02,\n",
       "        4.01140898e-02,  2.80511603e-02,  5.24673015e-02,  4.17538956e-02,\n",
       "        2.25536674e-02,  7.64337778e-02,  3.75035964e-02, -5.14401495e-02,\n",
       "        2.58524576e-03,  2.99179405e-02,  3.17365937e-02,  8.78113904e-04,\n",
       "       -1.70688648e-02,  2.98981275e-02, -2.91874669e-02,  5.38987964e-02,\n",
       "        3.73836607e-02, -1.42647922e-02, -3.22236940e-02,  5.87773416e-03,\n",
       "        4.07467298e-02,  1.89352948e-02,  2.33790800e-02,  6.48015812e-02,\n",
       "        3.46588455e-02,  6.15339018e-02,  3.25238779e-02,  1.44592449e-02,\n",
       "        1.22585250e-02, -4.11296785e-02, -2.97601335e-02, -2.76339357e-03,\n",
       "       -4.11528209e-03,  1.00288736e-02, -6.47608936e-02,  1.98852122e-02,\n",
       "        2.18223929e-02,  6.32908270e-02,  9.49064344e-02,  8.05094391e-02,\n",
       "        6.13711849e-02,  6.07090890e-02,  1.72017738e-02,  4.20719646e-02,\n",
       "       -3.85583490e-02,  4.31625918e-02,  3.22138751e-03,  4.52382919e-05,\n",
       "        7.59729818e-02,  3.49669196e-02,  1.49321444e-02, -2.29629930e-02,\n",
       "       -8.38240981e-03,  4.22644895e-03,  3.60984057e-02, -2.82623600e-02,\n",
       "       -8.46867859e-02, -4.26642671e-02, -3.97303561e-03,  4.38748337e-02,\n",
       "        2.26051193e-02,  3.05873975e-02,  9.80734676e-02, -1.11195026e-02,\n",
       "       -4.20765206e-02,  1.22255618e-02,  1.60452165e-02,  1.07452527e-01,\n",
       "       -4.54813167e-02, -2.19205841e-02,  2.05213744e-02, -1.32213291e-02,\n",
       "        7.59161683e-03, -1.82394497e-02,  4.74833734e-02, -3.43824401e-02,\n",
       "       -5.02786823e-02,  1.40487691e-02, -1.62184536e-02, -3.61317210e-02,\n",
       "        4.31643464e-02, -2.68333219e-02,  7.71881044e-02, -3.74685302e-02,\n",
       "       -7.47126192e-02, -2.38297097e-02,  4.14244272e-02, -1.06650153e-02,\n",
       "       -1.06944731e-02, -4.18583974e-02,  1.60823893e-02,  3.63701880e-02,\n",
       "       -2.76819337e-02,  2.61810478e-02, -3.25898044e-02, -5.95350005e-02,\n",
       "       -3.06546427e-02,  4.07495332e-04, -1.80504303e-02,  5.14662750e-02,\n",
       "       -4.82212156e-02, -2.09399499e-02,  2.68484894e-02,  1.03827147e-02,\n",
       "       -3.89498211e-02,  4.96167652e-02, -3.48916985e-02,  1.87135730e-02,\n",
       "        8.70468933e-03,  3.64775807e-02, -2.23845392e-02,  1.25741407e-01,\n",
       "       -6.70315791e-03,  7.72698130e-03,  3.25161666e-02, -9.02295262e-02,\n",
       "        1.79343540e-02,  4.47108671e-02, -1.39460200e-02,  1.56694581e-03,\n",
       "        3.63365188e-02, -2.80568618e-02, -3.00382264e-02,  2.92698760e-02,\n",
       "       -5.48839569e-02,  3.53602134e-02,  1.04856407e-02,  1.37205282e-02,\n",
       "       -1.15571572e-02,  1.59940161e-02,  5.58948889e-02, -2.82108095e-02,\n",
       "       -8.85844678e-02, -8.75645950e-02,  4.15485650e-02, -2.63728723e-02,\n",
       "        6.85544265e-03,  3.90115418e-02, -4.45535816e-02, -6.83582127e-02,\n",
       "       -5.02320379e-02, -3.52529064e-02, -5.19517995e-02,  5.54442666e-02,\n",
       "        7.07736462e-02,  5.53292371e-02, -1.38786873e-02,  3.75274420e-02,\n",
       "       -7.75293214e-03, -4.67209890e-02,  2.17817128e-02, -1.01237692e-01,\n",
       "       -3.66009362e-02,  1.69605017e-02,  2.00521369e-02, -5.43883517e-02,\n",
       "       -2.43943129e-02, -2.44605914e-02,  7.70774633e-02,  3.36446650e-02,\n",
       "        3.13189253e-02, -1.72466617e-02,  1.93959177e-02, -3.90849225e-02,\n",
       "        9.57087986e-03,  6.28928021e-02, -1.91333436e-03,  3.30288634e-02],\n",
       "      dtype=float32)"
      ]
     },
     "execution_count": 22,
     "metadata": {},
     "output_type": "execute_result"
    }
   ],
   "source": [
    "from helper import *\n",
    "\n",
    "\n",
    "word2vec_version = \"word2vec-google-news-300\"\n",
    "w2v = api.load(word2vec_version)\n",
    "words = 'Create a report that shows the number of settlement applications approved during the month, their approved amount,\\\n",
    "      the written off balance, the average days to approval, their average and median duration and their entry principal and balance, \\\n",
    "        for September 2020 per DCA and application type. The report should be produced on Earth portfolio. '\n",
    "words = words.split()\n",
    "\n",
    "embeddings = [w2v[word] for word in words if word in w2v]\n",
    "\n",
    "sentence_emb = sum(embeddings)/w2v.vector_size\n",
    "\n",
    "wrong = sum(embeddings)/len(embeddings)\n",
    "\n",
    "dif = sentence_emb - wrong\n",
    "\n",
    "dif\n",
    "\n",
    "\n",
    "\n",
    "\n",
    "\n",
    "\n",
    "\n"
   ]
  },
  {
   "cell_type": "code",
   "execution_count": 20,
   "metadata": {},
   "outputs": [
    {
     "data": {
      "text/plain": [
       "array([2. , 1.5])"
      ]
     },
     "execution_count": 20,
     "metadata": {},
     "output_type": "execute_result"
    }
   ],
   "source": [
    "L = [[2,1],[1,1],[1,1]]\n",
    "\n",
    "array = np.array(L)\n",
    "\n",
    "sum(array)/2\n"
   ]
  }
 ],
 "metadata": {
  "kernelspec": {
   "display_name": "project",
   "language": "python",
   "name": "python3"
  },
  "language_info": {
   "codemirror_mode": {
    "name": "ipython",
    "version": 3
   },
   "file_extension": ".py",
   "mimetype": "text/x-python",
   "name": "python",
   "nbconvert_exporter": "python",
   "pygments_lexer": "ipython3",
   "version": "3.9.16"
  },
  "orig_nbformat": 4,
  "vscode": {
   "interpreter": {
    "hash": "6730b402c0f33b6bed7f8d0f7f3f069d5734816b753f081e1b7690f9108853e7"
   }
  }
 },
 "nbformat": 4,
 "nbformat_minor": 2
}
