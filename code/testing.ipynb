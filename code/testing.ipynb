{
 "cells": [
  {
   "cell_type": "code",
   "execution_count": null,
   "metadata": {},
   "outputs": [],
   "source": [
    "from helper import *\n",
    "\n",
    "description = ['Provide a report that displays the number of accounts with running settlements for the Earth portfolio, \\\n",
    "    their expected monthly payments at the end of the examined month and their actual monthly payments per DCA, for September 2020. ',\n",
    "    'Provide a report that displays the number of accounts not in running settlements for the Earth portfolio, \\\n",
    "    their expected monthly payments at the end of the examined month and their actual monthly payments per DCA, for September 2020.',\n",
    "    'Provide the number of customers with active and running settlements of types Settlement, Preappoved, Resch to Sett, \\\n",
    "    Out of Mandate Had Settlement and null on the Earth portfolio, the corresponding number of applications, the initial settlement amount,\\\n",
    "         discount amount and future instalments per asset class and DCA, for September 2020.']\n",
    "\n",
    "targets = ['Payment prediction for stray payers, not in active settlement',\n",
    "'Application status in previous month',\n",
    "'Payment prediction for settlement payers',\n",
    "'Application type in the observation period',\n",
    "'Application type in previous observation period',\n",
    "'Amount paid within the observation period',\n",
    "'External agency (DCA or legal office) assigned on previous observation point',\n",
    "'Status of the last submitted application within the observation period.',\n",
    "'Account status',\n",
    "'Account segment',\n",
    "'QC case code',\n",
    "'Customer (primary account holder)',\n",
    "'External agency (DCA or legal office) currently assigned',\n",
    "'Portfolio',\n",
    "'Observation point date']      \n",
    "\n",
    "\n",
    "similarities_df = similarities_df(docs=description,group=targets,encoding_method='tfidf')\n",
    "\n",
    "similarities_df"
   ]
  }
 ],
 "metadata": {
  "kernelspec": {
   "display_name": "Python 3",
   "language": "python",
   "name": "python3"
  },
  "language_info": {
   "name": "python",
   "version": "3.10.10"
  },
  "orig_nbformat": 4,
  "vscode": {
   "interpreter": {
    "hash": "963b2b28cfee8505500d0edccb137d2b6cfea361e6e92c33a1322e1ea2a216f5"
   }
  }
 },
 "nbformat": 4,
 "nbformat_minor": 2
}
