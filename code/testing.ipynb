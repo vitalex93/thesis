{
 "cells": [
  {
   "cell_type": "code",
   "execution_count": null,
   "metadata": {},
   "outputs": [],
   "source": [
    "from helper import *\n",
    "\n",
    "path='../reports/corpus.xlsx'\n",
    "\n",
    "description = get_column_values(path, 'descriptions_measures', 'A')\n",
    "\n",
    "\n",
    "targets = get_column_values(path, 'descriptions_measures', 'B')\n",
    "\n",
    "similarities_df = similarities_df(docs=description,group=targets,encoding_method='tfidf')\n",
    "\n",
    "similarities_df.head()"
   ]
  },
  {
   "cell_type": "code",
   "execution_count": null,
   "metadata": {},
   "outputs": [],
   "source": [
    "from helper import *\n",
    "\n",
    "Q1 = 'Create a report that shows the number of settlement applications approved during the month, their approved amount,\\\n",
    "      the written off balance, the average days to approval, their average and median duration and their entry principal and balance, \\\n",
    "        for September 2020 per DCA and application type. The report should be produced on Earth portfolio. '\n",
    "\n",
    "path = '../reports/corpus.xlsx'\n",
    "targets = get_column_values(path, 'descriptions_measures', 'B')\n",
    "encoding_method = 'word2vec'\n",
    "version = 'word2vec-google-news-300'\n",
    "\n",
    "\n",
    "\n",
    "\n",
    "similarities_dict = get_similarity_scores(text=Q1,documents=targets,encoding_method=encoding_method,version=version)\n",
    "\n",
    "top_10 = get_first_n_keys(similarities_dict, 10)\n",
    "\n",
    "\n",
    "top_10"
   ]
  },
  {
   "cell_type": "code",
   "execution_count": null,
   "metadata": {},
   "outputs": [],
   "source": [
    "from preprocessing import *\n",
    "from helper import *\n",
    "\n",
    "Q1 = 'Create a report that shows the number of settlement applications approved during the month, their approved amount,\\\n",
    "      the written off balance, the average days to approval, their average and median duration and their entry principal and balance, \\\n",
    "        for September 2020 per DCA and application type. The report should be produced on Earth portfolio. '\n",
    "processed_text = preprocess_text(Q1)\n",
    "\n",
    "\n",
    "\n",
    "w2v = api.load(\"word2vec-google-news-300\")\n",
    "vocab = w2v.index_to_key\n",
    "words = Q1.split()\n",
    "\n",
    "\n",
    "count = sum(1 for word in processed_text if word in w2v)\n",
    "existing_words = [word for word in processed_text if word in w2v]\n",
    "difference = len(words) - count\n",
    "\n",
    "pr, orig = get_unique_items(words, processed_text)\n",
    "\n",
    "pr"
   ]
  },
  {
   "cell_type": "code",
   "execution_count": null,
   "metadata": {},
   "outputs": [],
   "source": [
    "from preprocessing import *\n",
    "\n",
    "Q1 = 'Create a report that shows the number of settlement applications approved during the month, their approved amount,\\\n",
    "      the written off balance, the average days to approval, their average and median duration and their entry principal and balance, \\\n",
    "        for September 2020 per DCA and application type. The report should be produced on Earth portfolio. '\n",
    "\n",
    "processed_text = preprocess_text(Q1)\n",
    "\n",
    "processed_text"
   ]
  },
  {
   "cell_type": "code",
   "execution_count": 1,
   "metadata": {},
   "outputs": [
    {
     "name": "stderr",
     "output_type": "stream",
     "text": [
      "c:\\Users\\avitsas\\Anaconda3\\envs\\project\\lib\\site-packages\\tqdm\\auto.py:21: TqdmWarning: IProgress not found. Please update jupyter and ipywidgets. See https://ipywidgets.readthedocs.io/en/stable/user_install.html\n",
      "  from .autonotebook import tqdm as notebook_tqdm\n"
     ]
    },
    {
     "name": "stdout",
     "output_type": "stream",
     "text": [
      "No bag-of-words model to save.\n",
      "TF-IDF model saved to preprocessedtfidf_model.joblib\n"
     ]
    }
   ],
   "source": [
    "from helper import *\n",
    "\n",
    "path='../reports/corpus.xlsx'\n",
    "descriptions = get_column_values(path, 'descriptions_measures', 'A')\n",
    "targets = get_column_values(path, 'descriptions_measures', 'B')\n",
    "models = ['bow','tfidf','word2vec','sbert']\n",
    "version_w2v = 'word2vec-google-news-300'\n",
    "version_sbert = 'bert-base-nli-mean-tokens'\n",
    "version_bow = 'bow_model.joblib'\n",
    "version_tfidf = 'tfidf_model.joblib'\n",
    "corpus = ['Descriptions']\n",
    "tm = TextModels(excel_path=path, columns=corpus,\n",
    "                 word2vec_version=version_w2v, sbert_model=version_sbert)\n",
    "\n",
    "#tm.build_bow_model(preprocessing=True)\n",
    "tm.build_tfidf_model(preprocessing=True)\n",
    "\n",
    "tm.save_models('preprocessed')"
   ]
  },
  {
   "cell_type": "code",
   "execution_count": 1,
   "metadata": {},
   "outputs": [
    {
     "name": "stderr",
     "output_type": "stream",
     "text": [
      "c:\\Users\\avitsas\\Anaconda3\\envs\\project\\lib\\site-packages\\tqdm\\auto.py:21: TqdmWarning: IProgress not found. Please update jupyter and ipywidgets. See https://ipywidgets.readthedocs.io/en/stable/user_install.html\n",
      "  from .autonotebook import tqdm as notebook_tqdm\n"
     ]
    },
    {
     "data": {
      "text/plain": [
       "{'R1': ['payment prediction settlement payer',\n",
       "  'payment prediction stray payer active settlement',\n",
       "  'settlement duration month',\n",
       "  'portfolio',\n",
       "  'total payment amount far',\n",
       "  'settlement duration month included',\n",
       "  'month arrears month ago',\n",
       "  'account status',\n",
       "  'account segment',\n",
       "  'portfolio grouping'],\n",
       " 'R2': ['payment prediction settlement payer',\n",
       "  'payment prediction stray payer active settlement',\n",
       "  'settlement duration month',\n",
       "  'portfolio',\n",
       "  'total payment amount far',\n",
       "  'settlement duration month included',\n",
       "  'month arrears month ago',\n",
       "  'account status',\n",
       "  'account segment',\n",
       "  'portfolio grouping'],\n",
       " 'R3': ['settlement duration',\n",
       "  'settlement duration month',\n",
       "  'discount amount',\n",
       "  'payment prediction stray payer active settlement',\n",
       "  'payment prediction settlement payer',\n",
       "  'settlement duration month included',\n",
       "  'total future instalment amount',\n",
       "  'principal amount class',\n",
       "  'observation point number application',\n",
       "  'observation point number customer'],\n",
       " 'R4': ['settlement duration month',\n",
       "  'settlement duration month included',\n",
       "  'month arrears month ago',\n",
       "  'application status previous month',\n",
       "  'settlement duration',\n",
       "  'payment prediction stray payer active settlement',\n",
       "  'payment prediction settlement payer',\n",
       "  'asset class',\n",
       "  'portfolio',\n",
       "  'bucket class active arrangement cancelled status'],\n",
       " 'R5': ['application bucket previous observation period',\n",
       "  'application status previous month',\n",
       "  'bucket class active arrangement cancelled status',\n",
       "  'active application indicator',\n",
       "  'application origin',\n",
       "  'application type',\n",
       "  'application indicator',\n",
       "  'application status',\n",
       "  'observation point number application',\n",
       "  'application type previous observation period'],\n",
       " 'R6': ['application type',\n",
       "  'application status previous month',\n",
       "  'application type observation period',\n",
       "  'observation point number application',\n",
       "  'approved amount',\n",
       "  'application origin',\n",
       "  'application indicator',\n",
       "  'application status',\n",
       "  'application type previous observation period',\n",
       "  'principal amount class'],\n",
       " 'R7': ['application status previous month',\n",
       "  'approved amount',\n",
       "  'application type',\n",
       "  'application status',\n",
       "  'pending day',\n",
       "  'application type previous observation period',\n",
       "  'application status end preceding observation period',\n",
       "  'status last submitted application within observation period',\n",
       "  'application type observation period',\n",
       "  'observation point number application'],\n",
       " 'R8': ['approved amount',\n",
       "  'approved duration',\n",
       "  'application type',\n",
       "  'balance written',\n",
       "  'settlement duration month',\n",
       "  'application status previous month',\n",
       "  'application type observation period',\n",
       "  'observation point number application',\n",
       "  'settlement duration month included',\n",
       "  'application origin'],\n",
       " 'R9': ['application type',\n",
       "  'application status previous month',\n",
       "  'application type observation period',\n",
       "  'observation point number application',\n",
       "  'approved amount',\n",
       "  'application origin',\n",
       "  'application indicator',\n",
       "  'application status',\n",
       "  'day rejection',\n",
       "  'application type previous observation period']}"
      ]
     },
     "execution_count": 1,
     "metadata": {},
     "output_type": "execute_result"
    }
   ],
   "source": [
    "from helper import *\n",
    "\n",
    "path='../reports/corpus.xlsx'\n",
    "descriptions = [preprocess_text(element) for element in get_column_values(path, 'descriptions_measures', 'A')]\n",
    "targets = [preprocess_text(element) for element in get_column_values(path, 'descriptions_measures', 'B')]\n",
    "models = ['bow','tfidf','word2vec','sbert']\n",
    "preprocessing = True\n",
    "version_w2v = 'word2vec-google-news-300'\n",
    "version_sbert = 'bert-base-nli-mean-tokens'\n",
    "version_bow = 'preprocessedbow_model.joblib'\n",
    "version_tfidf = 'preprocessedtfidf_model.joblib'\n",
    "corpus = ['Descriptions']\n",
    "tm = TextModels(excel_path=path, columns=corpus,\n",
    "                 word2vec_version=version_w2v, sbert_model=version_sbert)\n",
    "n = 10\n",
    "\n",
    "df = results_to_targets(descriptions=descriptions,targets=targets,model='bow',version=version_bow,\n",
    "                        tm=tm, preprocessing=preprocessing,n=n,path=path, i=5)\n",
    "\n",
    "# get_similarities_for_values returns 8 keys instead of 9\n",
    "# because after preprocessing the first 2 reports are identical\n",
    "dictsim = get_similarities_for_values(values=descriptions, docs=targets,encoding_method='bow',version=version_bow,\n",
    "                                      tm=tm, n=n)\n",
    "\n",
    "dictsim"
   ]
  }
 ],
 "metadata": {
  "kernelspec": {
   "display_name": "project",
   "language": "python",
   "name": "python3"
  },
  "language_info": {
   "codemirror_mode": {
    "name": "ipython",
    "version": 3
   },
   "file_extension": ".py",
   "mimetype": "text/x-python",
   "name": "python",
   "nbconvert_exporter": "python",
   "pygments_lexer": "ipython3",
   "version": "3.9.16"
  },
  "orig_nbformat": 4,
  "vscode": {
   "interpreter": {
    "hash": "6730b402c0f33b6bed7f8d0f7f3f069d5734816b753f081e1b7690f9108853e7"
   }
  }
 },
 "nbformat": 4,
 "nbformat_minor": 2
}
